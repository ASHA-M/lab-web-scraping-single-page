{
 "cells": [
  {
   "cell_type": "code",
   "execution_count": 1,
   "id": "65bac6de",
   "metadata": {},
   "outputs": [],
   "source": [
    "from bs4 import BeautifulSoup\n",
    "import requests\n",
    "import pandas as pd\n",
    "import random"
   ]
  },
  {
   "cell_type": "code",
   "execution_count": 2,
   "id": "2d0d0164",
   "metadata": {},
   "outputs": [],
   "source": [
    "url = \"https://www.popvortex.com/music/charts/top-100-songs.php\""
   ]
  },
  {
   "cell_type": "code",
   "execution_count": 3,
   "id": "4cf63fba",
   "metadata": {},
   "outputs": [
    {
     "data": {
      "text/plain": [
       "200"
      ]
     },
     "execution_count": 3,
     "metadata": {},
     "output_type": "execute_result"
    }
   ],
   "source": [
    "response = requests.get(url)\n",
    "response.status_code"
   ]
  },
  {
   "cell_type": "code",
   "execution_count": 4,
   "id": "0801dfdf",
   "metadata": {},
   "outputs": [
    {
     "data": {
      "text/plain": [
       "366491"
      ]
     },
     "execution_count": 4,
     "metadata": {},
     "output_type": "execute_result"
    }
   ],
   "source": [
    "response.content #whole html content\n",
    "len(response.content)"
   ]
  },
  {
   "cell_type": "code",
   "execution_count": null,
   "id": "0f560f58",
   "metadata": {},
   "outputs": [],
   "source": [
    "soup = BeautifulSoup(response.content, \"html.parser\") #push through beautiful soup\n",
    "print(soup.prettify())"
   ]
  },
  {
   "cell_type": "code",
   "execution_count": 6,
   "id": "d7f1ad89",
   "metadata": {},
   "outputs": [],
   "source": [
    "#soup.select(\"p.title-artist\")"
   ]
  },
  {
   "cell_type": "code",
   "execution_count": 7,
   "id": "dc1ba207",
   "metadata": {},
   "outputs": [
    {
     "data": {
      "text/plain": [
       "'About Damn Time'"
      ]
     },
     "execution_count": 7,
     "metadata": {},
     "output_type": "execute_result"
    }
   ],
   "source": [
    "soup.select(\"cite.title\")[0].get_text()"
   ]
  },
  {
   "cell_type": "code",
   "execution_count": 8,
   "id": "03f97b07",
   "metadata": {},
   "outputs": [
    {
     "data": {
      "text/plain": [
       "'Lizzo'"
      ]
     },
     "execution_count": 8,
     "metadata": {},
     "output_type": "execute_result"
    }
   ],
   "source": [
    "soup.select(\"em.artist\")[0].get_text()"
   ]
  },
  {
   "cell_type": "code",
   "execution_count": 9,
   "id": "8967cb71",
   "metadata": {},
   "outputs": [
    {
     "name": "stdout",
     "output_type": "stream",
     "text": [
      "['About Damn Time', 'Running Up That Hill (A Deal with God)', 'Irrelevant', \"Y'all Life\", 'Names', 'As It Was', 'BREAK MY SOUL', 'The Kind of Love We Make', 'Unstoppable', 'Never Til Now', 'Rock and A Hard Place', 'About Damn Time', 'She Had Me At Heads Carolina', 'Wasted On You', 'Party In the U.S.A.', 'Good as Hell', \"I Ain't Worried\", 'Quietly Yours', 'Like I Love Country Music', 'Sunroof', 'American Pie (Full Length Version)', 'Master of Puppets', 'Left and Right', 'First Class', 'You Proof', 'Hold My Hand', 'I Like You (A Happier Song) [feat. Doja Cat]', 'Son Of A Sinner', 'Call Me Maybe', 'Glimpse of Us', 'Poker Face', 'Victoria’s Secret', 'She Likes It (feat. Jake Scott)', 'Hey You', 'Arson', 'Fall In Love', 'Fancy Like', 'AA', 'Big Energy (Remix) [feat. DJ Khaled]', '5 Foot 9', 'Hot Shit', 'Numb', 'Lights (Single Version)', 'Dark Horse (feat. Juicy J)', 'Stay With Me', 'Don’t Come Lookin’', \"Can't Stop Us Now\", 'Cold Heart (PNAU Remix)', \"'Til You Can't\", 'Late Night Talking', \"I'm Yours\", 'Never Gonna Give You Up', 'Roar', '7 Years', \"Sweet Child O' Mine\", 'Damn Strait', 'Vegas', 'Everybody Wants to Rule the World', 'Just the Way You Are (feat. Lupe Fiasco) [Remix] [Bonus Track]', \"When You're Gone\", 'Tennessee Whiskey', 'Sweet Caroline', '_WORLD', 'In Jesus Name (God Of Possible)', 'Vegas (From the Original Motion Picture Soundtrack ELVIS)', 'Shivers', 'Special', 'CHEERS', 'Love Shack', 'Dancing Queen', 'Joy of My Life', 'Love Me More', 'Tití Me Preguntó', 'WAIT FOR U (feat. Drake & Tems)', 'When I Was Your Man', 'Big Energy', 'The Motto', 'Separate Ways (Worlds Apart) [Steve Perry & Bryce Miller Extended Remix]', 'Grenade', 'W.I.T.C.H.', 'Save Me', '= (Equal Sign)', 'Kings & Queens', 'Numb Little Bug', 'Hot n Cold', 'Soul', 'You', 'Take My Name', 'Music For a Sushi Restaurant', 'Danger Zone', 'Betty (Get Money)', 'abcdefu (feat. Royal & the Serpent)', \"Something in the Orange (Z&E's Version)\", \"Thick Fine Woman (feat. Lil' Ronny Mothaf, Fat Pimp & No Shame)\", 'You Get What You Give', 'Heat Waves', 'Jimmy Cooks (feat. 21 Savage)', \"California Dreamin'\", 'Sand In My Boots', 'Hold My Hand (Music From The Motion Picture \"Top Gun: Maverick\")']\n",
      "['Lizzo', 'Kate Bush', 'P!nk', 'Walker Hayes', 'Tom MacDonald', 'Harry Styles', 'Beyoncé', 'Luke Combs', 'Sia', 'Ashley Cooke & Brett Young', 'Bailey Zimmerman', 'Lizzo', 'Cole Swindell', 'Morgan Wallen', 'Miley Cyrus', 'Lizzo', 'OneRepublic', 'Birdy', 'Kane Brown', 'Nicky Youre & Dazy', 'Don Mclean', 'Metallica', 'Charlie Puth & Jung Kook', 'Jack Harlow', 'Morgan Wallen', 'Lady Gaga', 'Post Malone', 'Jelly Roll', 'Carly Rae Jepsen', 'Joji', 'Lady Gaga', 'Jax', 'Russell Dickerson & Jake Scott', 'Disturbed', 'j-hope', 'Bailey Zimmerman', 'Walker Hayes', 'Walker Hayes', 'Latto & Mariah Carey', 'Tyler Hubbard', 'Cardi B, Kanye West & Lil Durk', 'Marshmello & Khalid', 'Ellie Goulding', 'Katy Perry', 'Calvin Harris, Justin Timberlake, Halsey & Pharrell Williams', 'Jackson Dean', 'Pitbull & Zac Brown', 'Elton John & Dua Lipa', 'Cody Johnson', 'Harry Styles', 'Jason Mraz', 'Rick Astley', 'Katy Perry', 'Lukas Graham', \"Guns N' Roses\", 'Scotty McCreery', 'Doja Cat', 'Tears for Fears', 'Bruno Mars', 'Shawn Mendes', 'Chris Stapleton', 'Neil Diamond', 'SEVENTEEN', 'Katy Nichole', 'Doja Cat', 'Ed Sheeran', 'Lizzo', 'SEVENTEEN', \"The B-52's\", 'ABBA', 'Chris Stapleton', 'Sam Smith', 'Bad Bunny', 'Future', 'Bruno Mars', 'Latto', 'Tiësto & Ava Max', 'Journey & Steve Perry', 'Bruno Mars', 'Devon Cole', 'Jelly Roll', 'j-hope', 'Ava Max', 'Em Beihold', 'Katy Perry', 'Lee Brice', 'Louyah', 'Parmalee', 'Harry Styles', 'Kenny Loggins', 'Yung Gravy', 'GAYLE', 'Zach Bryan', 'Chalie Boy', 'New Radicals', 'Glass Animals', 'Drake', 'The Mamas & The Papas', 'Morgan Wallen', 'Lady Gaga']\n"
     ]
    }
   ],
   "source": [
    "#initialize empty lists\n",
    "song = []\n",
    "artist = []\n",
    "\n",
    "num_iter = len(soup.select(\"p.title-artist\"))\n",
    "\n",
    "t_list = soup.select(\"p.title-artist cite.title\")\n",
    "a_list = soup.select(\"p.title-artist em.artist\")\n",
    "\n",
    "# iterate through the result set and retrive all the data\n",
    "for i in range(num_iter):\n",
    "    song.append(t_list[i].get_text())\n",
    "    artist.append(a_list[i].get_text())\n",
    "\n",
    "print(song)\n",
    "print(artist)"
   ]
  },
  {
   "cell_type": "code",
   "execution_count": 10,
   "id": "26f68057",
   "metadata": {},
   "outputs": [
    {
     "data": {
      "text/html": [
       "<div>\n",
       "<style scoped>\n",
       "    .dataframe tbody tr th:only-of-type {\n",
       "        vertical-align: middle;\n",
       "    }\n",
       "\n",
       "    .dataframe tbody tr th {\n",
       "        vertical-align: top;\n",
       "    }\n",
       "\n",
       "    .dataframe thead th {\n",
       "        text-align: right;\n",
       "    }\n",
       "</style>\n",
       "<table border=\"1\" class=\"dataframe\">\n",
       "  <thead>\n",
       "    <tr style=\"text-align: right;\">\n",
       "      <th></th>\n",
       "      <th>artist</th>\n",
       "      <th>song</th>\n",
       "    </tr>\n",
       "  </thead>\n",
       "  <tbody>\n",
       "    <tr>\n",
       "      <th>0</th>\n",
       "      <td>Lizzo</td>\n",
       "      <td>About Damn Time</td>\n",
       "    </tr>\n",
       "    <tr>\n",
       "      <th>1</th>\n",
       "      <td>Kate Bush</td>\n",
       "      <td>Running Up That Hill (A Deal with God)</td>\n",
       "    </tr>\n",
       "    <tr>\n",
       "      <th>2</th>\n",
       "      <td>P!nk</td>\n",
       "      <td>Irrelevant</td>\n",
       "    </tr>\n",
       "    <tr>\n",
       "      <th>3</th>\n",
       "      <td>Walker Hayes</td>\n",
       "      <td>Y'all Life</td>\n",
       "    </tr>\n",
       "    <tr>\n",
       "      <th>4</th>\n",
       "      <td>Tom MacDonald</td>\n",
       "      <td>Names</td>\n",
       "    </tr>\n",
       "    <tr>\n",
       "      <th>...</th>\n",
       "      <td>...</td>\n",
       "      <td>...</td>\n",
       "    </tr>\n",
       "    <tr>\n",
       "      <th>95</th>\n",
       "      <td>Glass Animals</td>\n",
       "      <td>Heat Waves</td>\n",
       "    </tr>\n",
       "    <tr>\n",
       "      <th>96</th>\n",
       "      <td>Drake</td>\n",
       "      <td>Jimmy Cooks (feat. 21 Savage)</td>\n",
       "    </tr>\n",
       "    <tr>\n",
       "      <th>97</th>\n",
       "      <td>The Mamas &amp; The Papas</td>\n",
       "      <td>California Dreamin'</td>\n",
       "    </tr>\n",
       "    <tr>\n",
       "      <th>98</th>\n",
       "      <td>Morgan Wallen</td>\n",
       "      <td>Sand In My Boots</td>\n",
       "    </tr>\n",
       "    <tr>\n",
       "      <th>99</th>\n",
       "      <td>Lady Gaga</td>\n",
       "      <td>Hold My Hand (Music From The Motion Picture \"T...</td>\n",
       "    </tr>\n",
       "  </tbody>\n",
       "</table>\n",
       "<p>100 rows × 2 columns</p>\n",
       "</div>"
      ],
      "text/plain": [
       "                   artist                                               song\n",
       "0                   Lizzo                                    About Damn Time\n",
       "1               Kate Bush             Running Up That Hill (A Deal with God)\n",
       "2                    P!nk                                         Irrelevant\n",
       "3            Walker Hayes                                         Y'all Life\n",
       "4           Tom MacDonald                                              Names\n",
       "..                    ...                                                ...\n",
       "95          Glass Animals                                         Heat Waves\n",
       "96                  Drake                      Jimmy Cooks (feat. 21 Savage)\n",
       "97  The Mamas & The Papas                                California Dreamin'\n",
       "98          Morgan Wallen                                   Sand In My Boots\n",
       "99              Lady Gaga  Hold My Hand (Music From The Motion Picture \"T...\n",
       "\n",
       "[100 rows x 2 columns]"
      ]
     },
     "execution_count": 10,
     "metadata": {},
     "output_type": "execute_result"
    }
   ],
   "source": [
    "data = pd.DataFrame({\"artist\":artist, \n",
    "                     \"song\":song})\n",
    "data"
   ]
  },
  {
   "cell_type": "code",
   "execution_count": 11,
   "id": "96eedbc0",
   "metadata": {},
   "outputs": [],
   "source": [
    "data['song'] = data['song'].str.lower()\n",
    "data['artist'] = data['artist'].str.lower()"
   ]
  },
  {
   "cell_type": "code",
   "execution_count": 12,
   "id": "fb96790d",
   "metadata": {},
   "outputs": [],
   "source": [
    "def top100():\n",
    "    random_song=random.choice(data['song'])\n",
    "    user_choice = input ('Choose a song from the top 100:')\n",
    "    \n",
    "    if user_choice.lower() not in list(data['song']):\n",
    "        print('This song is not included in the TOP100! Try with another song')\n",
    "    else:\n",
    "        print(\"If you like the song \" + \"'\" + user_choice + \"'\" + \" then listen to this next: \" + \"'\" + random_song + \"'\")\n",
    "\n",
    "#Source: https://albertoviciana.medium.com/my-first-song-recommender-96994af6d6bc"
   ]
  },
  {
   "cell_type": "code",
   "execution_count": 13,
   "id": "436ec905",
   "metadata": {},
   "outputs": [
    {
     "name": "stdout",
     "output_type": "stream",
     "text": [
      "Choose a song from the top 100:nAmes\n",
      "If you like the song 'nAmes' then listen to this next: 'sweet caroline'\n"
     ]
    }
   ],
   "source": [
    "top100()"
   ]
  }
 ],
 "metadata": {
  "kernelspec": {
   "display_name": "Python 3 (ipykernel)",
   "language": "python",
   "name": "python3"
  },
  "language_info": {
   "codemirror_mode": {
    "name": "ipython",
    "version": 3
   },
   "file_extension": ".py",
   "mimetype": "text/x-python",
   "name": "python",
   "nbconvert_exporter": "python",
   "pygments_lexer": "ipython3",
   "version": "3.8.13"
  }
 },
 "nbformat": 4,
 "nbformat_minor": 5
}
