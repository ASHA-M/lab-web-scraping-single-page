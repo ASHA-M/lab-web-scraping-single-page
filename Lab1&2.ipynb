{
 "cells": [
  {
   "cell_type": "code",
   "execution_count": 1,
   "id": "cc15fb8c",
   "metadata": {},
   "outputs": [],
   "source": [
    "from bs4 import BeautifulSoup\n",
    "import requests\n",
    "import pandas as pd"
   ]
  },
  {
   "cell_type": "code",
   "execution_count": 2,
   "id": "c2172c44",
   "metadata": {},
   "outputs": [],
   "source": [
    "#chart-position-7 > div.chart-content.col-xs-12.col-sm-8 > p"
   ]
  },
  {
   "cell_type": "code",
   "execution_count": 3,
   "id": "b2de6346",
   "metadata": {},
   "outputs": [],
   "source": [
    "url = \"https://www.popvortex.com/music/charts/top-100-songs.php\""
   ]
  },
  {
   "cell_type": "code",
   "execution_count": 4,
   "id": "35921582",
   "metadata": {},
   "outputs": [
    {
     "data": {
      "text/plain": [
       "200"
      ]
     },
     "execution_count": 4,
     "metadata": {},
     "output_type": "execute_result"
    }
   ],
   "source": [
    "response = requests.get(url)\n",
    "response.status_code"
   ]
  },
  {
   "cell_type": "code",
   "execution_count": 5,
   "id": "79cc40f9",
   "metadata": {},
   "outputs": [
    {
     "data": {
      "text/plain": [
       "365811"
      ]
     },
     "execution_count": 5,
     "metadata": {},
     "output_type": "execute_result"
    }
   ],
   "source": [
    "response.content #whole html content\n",
    "len(response.content)"
   ]
  },
  {
   "cell_type": "code",
   "execution_count": null,
   "id": "edc2f010",
   "metadata": {},
   "outputs": [],
   "source": [
    "soup = BeautifulSoup(response.content, \"html.parser\") #push through beautiful soup\n",
    "print(soup.prettify())"
   ]
  },
  {
   "cell_type": "code",
   "execution_count": 7,
   "id": "9b1cec5e",
   "metadata": {},
   "outputs": [
    {
     "data": {
      "text/plain": [
       "[<p class=\"title-artist\"><cite class=\"title\">About Damn Time</cite><em class=\"artist\">Lizzo</em></p>]"
      ]
     },
     "execution_count": 7,
     "metadata": {},
     "output_type": "execute_result"
    }
   ],
   "source": [
    "soup.select(\"#chart-position-1 > div.chart-content.col-xs-12.col-sm-8 > p\")"
   ]
  },
  {
   "cell_type": "code",
   "execution_count": null,
   "id": "cd0f619c",
   "metadata": {},
   "outputs": [],
   "source": [
    "soup.select(\"p.title-artist\")\n"
   ]
  },
  {
   "cell_type": "code",
   "execution_count": 9,
   "id": "632f743e",
   "metadata": {},
   "outputs": [
    {
     "data": {
      "text/plain": [
       "'About Damn Time'"
      ]
     },
     "execution_count": 9,
     "metadata": {},
     "output_type": "execute_result"
    }
   ],
   "source": [
    "soup.select(\"cite.title\")[0].get_text()"
   ]
  },
  {
   "cell_type": "code",
   "execution_count": 10,
   "id": "74b0b094",
   "metadata": {},
   "outputs": [
    {
     "data": {
      "text/plain": [
       "'Lizzo'"
      ]
     },
     "execution_count": 10,
     "metadata": {},
     "output_type": "execute_result"
    }
   ],
   "source": [
    "soup.select(\"em.artist\")[0].get_text()"
   ]
  },
  {
   "cell_type": "code",
   "execution_count": 11,
   "id": "8e5f604e",
   "metadata": {},
   "outputs": [
    {
     "name": "stdout",
     "output_type": "stream",
     "text": [
      "['About Damn Time', 'Running Up That Hill (A Deal with God)', \"Y'all Life\", 'Names', 'As It Was', 'BREAK MY SOUL', 'The Kind of Love We Make', 'Unstoppable', 'She Had Me At Heads Carolina', 'About Damn Time', 'Wasted On You', 'Rock and A Hard Place', \"I Ain't Worried\", 'Good as Hell', 'Quietly Yours', 'Irrelevant', 'Party In the U.S.A.', 'Like I Love Country Music', 'Master of Puppets', 'Sunroof', 'Left and Right', 'Hold My Hand', 'Arson', 'You Proof', 'First Class', 'She Likes It (feat. Jake Scott)', 'Call Me Maybe', 'Hey You', 'Stay With Me', 'I Like You (A Happier Song) [feat. Doja Cat]', 'Son Of A Sinner', 'Poker Face', 'Hot Shit', 'AA', 'Glimpse of Us', 'Love Shack', 'Big Energy (Remix) [feat. DJ Khaled]', \"Can't Stop Us Now\", '5 Foot 9', 'Don’t Come Lookin’', 'Fancy Like', 'Numb', 'Fall In Love', 'Lights (Single Version)', \"'Til You Can't\", 'Cold Heart (PNAU Remix)', 'Vegas', 'Never Gonna Give You Up', 'Roar', \"When You're Gone\", 'Tennessee Whiskey', 'Dark Horse (feat. Juicy J)', '7 Years', 'Special', \"I'm Yours\", 'Grenade', '= (Equal Sign)', 'Everybody Wants to Rule the World', 'Just the Way You Are (feat. Lupe Fiasco) [Remix] [Bonus Track]', 'Late Night Talking', \"Sweet Child O' Mine\", 'Shivers', 'Damn Strait', 'You', 'Victoria’s Secret', 'Sweet Caroline', 'Separate Ways (Worlds Apart) [Steve Perry & Bryce Miller Extended Remix]', 'Love Me More', '_WORLD', 'Joy of My Life', 'Dancing Queen', \"Something in the Orange (Z&E's Version)\", \"Pandora's Box\", 'Future', 'Big Energy', 'Safety Zone', 'The Motto', 'Hot n Cold', 'What If…', 'Take My Name', 'Heat Waves', 'Sand In My Boots', 'Numb Little Bug', 'In Jesus Name (God Of Possible)', 'STOP', 'Tití Me Preguntó', 'Wild Palomino', 'Vegas (From the Original Motion Picture Soundtrack ELVIS)', 'When I Was Your Man', 'W.I.T.C.H.', 'CHEERS', 'Kings & Queens', 'Soul', 'Music Box : Reflection', 'Hold My Hand (Music From The Motion Picture \"Top Gun: Maverick\")', 'Music For a Sushi Restaurant', 'Danger Zone', 'Levitating (feat. DaBaby)', 'abcdefu (feat. Royal & the Serpent)', 'Hunter Biden Hacked']\n",
      "['Lizzo', 'Kate Bush', 'Walker Hayes', 'Tom MacDonald', 'Harry Styles', 'Beyoncé', 'Luke Combs', 'Sia', 'Cole Swindell', 'Lizzo', 'Morgan Wallen', 'Bailey Zimmerman', 'OneRepublic', 'Lizzo', 'Birdy', 'P!nk', 'Miley Cyrus', 'Kane Brown', 'Metallica', 'Nicky Youre & Dazy', 'Charlie Puth & Jung Kook', 'Lady Gaga', 'j-hope', 'Morgan Wallen', 'Jack Harlow', 'Russell Dickerson & Jake Scott', 'Carly Rae Jepsen', 'Disturbed', 'Calvin Harris, Justin Timberlake, Halsey & Pharrell Williams', 'Post Malone', 'Jelly Roll', 'Lady Gaga', 'Cardi B, Kanye West & Lil Durk', 'Walker Hayes', 'Joji', \"The B-52's\", 'Latto & Mariah Carey', 'Pitbull & Zac Brown', 'Tyler Hubbard', 'Jackson Dean', 'Walker Hayes', 'Marshmello & Khalid', 'Bailey Zimmerman', 'Ellie Goulding', 'Cody Johnson', 'Elton John & Dua Lipa', 'Doja Cat', 'Rick Astley', 'Katy Perry', 'Shawn Mendes', 'Chris Stapleton', 'Katy Perry', 'Lukas Graham', 'Lizzo', 'Jason Mraz', 'Bruno Mars', 'j-hope', 'Tears for Fears', 'Bruno Mars', 'Harry Styles', \"Guns N' Roses\", 'Ed Sheeran', 'Scotty McCreery', 'Louyah', 'Jax', 'Neil Diamond', 'Journey & Steve Perry', 'Sam Smith', 'SEVENTEEN', 'Chris Stapleton', 'ABBA', 'Zach Bryan', 'j-hope', 'j-hope', 'Latto', 'j-hope', 'Tiësto & Ava Max', 'Katy Perry', 'j-hope', 'Parmalee', 'Glass Animals', 'Morgan Wallen', 'Em Beihold', 'Katy Nichole', 'j-hope', 'Bad Bunny', 'Zac Brown Band & Cody Johnson', 'Doja Cat', 'Bruno Mars', 'Devon Cole', 'SEVENTEEN', 'Ava Max', 'Lee Brice', 'j-hope', 'Lady Gaga', 'Harry Styles', 'Kenny Loggins', 'Dua Lipa', 'GAYLE', 'Bryson Gray']\n"
     ]
    }
   ],
   "source": [
    "#initialize empty lists\n",
    "song = []\n",
    "artist = []\n",
    "\n",
    "\n",
    "# define the number of iterations of our for loop\n",
    "# by checking how many elements are in the retrieved result set\n",
    "# (this is equivalent but more robust than just explicitly defining 250 iterations)\n",
    "num_iter = len(soup.select(\"p.title-artist\"))\n",
    "\n",
    "tClist = soup.select(\"p.title-artist cite.title\")\n",
    "citelist = soup.select(\"p.title-artist em.artist\")\n",
    "# iterate through the result set and retrive all the data\n",
    "for i in range(num_iter):\n",
    "    song.append(tClist[i].get_text())\n",
    "    artist.append(citelist[i].get_text())\n",
    "\n",
    "\n",
    "print(song)\n",
    "print(artist)"
   ]
  },
  {
   "cell_type": "code",
   "execution_count": 12,
   "id": "b00d89cd",
   "metadata": {},
   "outputs": [
    {
     "data": {
      "text/html": [
       "<div>\n",
       "<style scoped>\n",
       "    .dataframe tbody tr th:only-of-type {\n",
       "        vertical-align: middle;\n",
       "    }\n",
       "\n",
       "    .dataframe tbody tr th {\n",
       "        vertical-align: top;\n",
       "    }\n",
       "\n",
       "    .dataframe thead th {\n",
       "        text-align: right;\n",
       "    }\n",
       "</style>\n",
       "<table border=\"1\" class=\"dataframe\">\n",
       "  <thead>\n",
       "    <tr style=\"text-align: right;\">\n",
       "      <th></th>\n",
       "      <th>artist</th>\n",
       "      <th>song</th>\n",
       "    </tr>\n",
       "  </thead>\n",
       "  <tbody>\n",
       "    <tr>\n",
       "      <th>0</th>\n",
       "      <td>Lizzo</td>\n",
       "      <td>About Damn Time</td>\n",
       "    </tr>\n",
       "    <tr>\n",
       "      <th>1</th>\n",
       "      <td>Kate Bush</td>\n",
       "      <td>Running Up That Hill (A Deal with God)</td>\n",
       "    </tr>\n",
       "    <tr>\n",
       "      <th>2</th>\n",
       "      <td>Walker Hayes</td>\n",
       "      <td>Y'all Life</td>\n",
       "    </tr>\n",
       "    <tr>\n",
       "      <th>3</th>\n",
       "      <td>Tom MacDonald</td>\n",
       "      <td>Names</td>\n",
       "    </tr>\n",
       "    <tr>\n",
       "      <th>4</th>\n",
       "      <td>Harry Styles</td>\n",
       "      <td>As It Was</td>\n",
       "    </tr>\n",
       "    <tr>\n",
       "      <th>...</th>\n",
       "      <td>...</td>\n",
       "      <td>...</td>\n",
       "    </tr>\n",
       "    <tr>\n",
       "      <th>95</th>\n",
       "      <td>Harry Styles</td>\n",
       "      <td>Music For a Sushi Restaurant</td>\n",
       "    </tr>\n",
       "    <tr>\n",
       "      <th>96</th>\n",
       "      <td>Kenny Loggins</td>\n",
       "      <td>Danger Zone</td>\n",
       "    </tr>\n",
       "    <tr>\n",
       "      <th>97</th>\n",
       "      <td>Dua Lipa</td>\n",
       "      <td>Levitating (feat. DaBaby)</td>\n",
       "    </tr>\n",
       "    <tr>\n",
       "      <th>98</th>\n",
       "      <td>GAYLE</td>\n",
       "      <td>abcdefu (feat. Royal &amp; the Serpent)</td>\n",
       "    </tr>\n",
       "    <tr>\n",
       "      <th>99</th>\n",
       "      <td>Bryson Gray</td>\n",
       "      <td>Hunter Biden Hacked</td>\n",
       "    </tr>\n",
       "  </tbody>\n",
       "</table>\n",
       "<p>100 rows × 2 columns</p>\n",
       "</div>"
      ],
      "text/plain": [
       "           artist                                    song\n",
       "0           Lizzo                         About Damn Time\n",
       "1       Kate Bush  Running Up That Hill (A Deal with God)\n",
       "2    Walker Hayes                              Y'all Life\n",
       "3   Tom MacDonald                                   Names\n",
       "4    Harry Styles                               As It Was\n",
       "..            ...                                     ...\n",
       "95   Harry Styles            Music For a Sushi Restaurant\n",
       "96  Kenny Loggins                             Danger Zone\n",
       "97       Dua Lipa               Levitating (feat. DaBaby)\n",
       "98          GAYLE     abcdefu (feat. Royal & the Serpent)\n",
       "99    Bryson Gray                     Hunter Biden Hacked\n",
       "\n",
       "[100 rows x 2 columns]"
      ]
     },
     "execution_count": 12,
     "metadata": {},
     "output_type": "execute_result"
    }
   ],
   "source": [
    "data = pd.DataFrame({\"artist\":artist, \n",
    "                     \"song\":song})\n",
    "data"
   ]
  },
  {
   "cell_type": "markdown",
   "id": "973371b5",
   "metadata": {},
   "source": [
    "## Lab 2"
   ]
  },
  {
   "cell_type": "code",
   "execution_count": 13,
   "id": "011e29c3",
   "metadata": {},
   "outputs": [],
   "source": [
    "url1 = \"https://www.officialcharts.com/charts/singles-chart/\""
   ]
  },
  {
   "cell_type": "code",
   "execution_count": 14,
   "id": "e4d22076",
   "metadata": {},
   "outputs": [
    {
     "data": {
      "text/plain": [
       "200"
      ]
     },
     "execution_count": 14,
     "metadata": {},
     "output_type": "execute_result"
    }
   ],
   "source": [
    "response1 = requests.get(url1)\n",
    "response1.status_code"
   ]
  },
  {
   "cell_type": "code",
   "execution_count": 15,
   "id": "fc650f1c",
   "metadata": {},
   "outputs": [
    {
     "data": {
      "text/plain": [
       "453074"
      ]
     },
     "execution_count": 15,
     "metadata": {},
     "output_type": "execute_result"
    }
   ],
   "source": [
    "response1.content\n",
    "len(response1.content)"
   ]
  },
  {
   "cell_type": "code",
   "execution_count": null,
   "id": "3342d249",
   "metadata": {},
   "outputs": [],
   "source": [
    "soup1 = BeautifulSoup(response1.content, \"html.parser\")\n",
    "print(soup1.prettify())"
   ]
  },
  {
   "cell_type": "code",
   "execution_count": 17,
   "id": "20f3fb4f",
   "metadata": {},
   "outputs": [
    {
     "name": "stdout",
     "output_type": "stream",
     "text": [
      "AFRAID TO FEEL\n"
     ]
    }
   ],
   "source": [
    "print(soup1.select(\"div.title a\")[0].get_text())"
   ]
  },
  {
   "cell_type": "code",
   "execution_count": 18,
   "id": "97749766",
   "metadata": {},
   "outputs": [
    {
     "name": "stdout",
     "output_type": "stream",
     "text": [
      "LF SYSTEM\n"
     ]
    }
   ],
   "source": [
    "print(soup1.select(\"div.artist a\")[0].get_text())"
   ]
  },
  {
   "cell_type": "code",
   "execution_count": 20,
   "id": "501a90cf",
   "metadata": {},
   "outputs": [
    {
     "name": "stdout",
     "output_type": "stream",
     "text": [
      "['AFRAID TO FEEL', 'AS IT WAS', 'GREEN GREEN GRASS', 'BREAK MY SOUL', 'RUNNING UP THAT HILL', 'ABOUT DAMN TIME', 'LAST LAST', 'CRAZY WHAT LOVE CAN DO', 'IFTK', '21 REASONS', 'MASSIVE', 'WHERE DID YOU GO', 'LATE NIGHT TALKING', \"I AIN'T WORRIED\", 'SEVENTEEN GOING UNDER', 'GLIMPSE OF US', 'STAY THE NIGHT', 'WAIT FOR U', 'MUSIC FOR A SUSHI RESTAURANT', 'GO', 'NO EXCUSES', 'MASTER OF PUPPETS', 'JIMMY COOKS', 'POTION', 'VEGAS', 'BIG ENERGY', 'HOLD MY HAND', 'I LIKE YOU (A HAPPIER SONG)', 'HOT IN IT', 'FOR MY HAND', 'ELEGANT & GANG', \"DON'T FORGET MY LOVE\", 'HEAT WAVES', 'REMIND ME', 'BAD HABITS', 'PERU', '2STEP', 'IN THE STARS', 'SHIVERS', 'WHERE ARE YOU NOW', 'HAPPIER THAN EVER', 'FLOWERS', 'SUNROOF', 'MIXED EMOTIONS', 'RAINFALL', 'MAKE ME FEEL GOOD', 'CLOAK & DAGGER', 'BAM BAM', 'SOMETHING TO SOMEONE', \"JE M'APPELLE\", 'FIRST CLASS', 'STICKY', 'COLD HEART', 'FERRARI', 'BIG CITY LIFE', 'SPACE MAN', 'PART OF THE BAND', 'BABY', 'COOPED UP', 'STRANGERS', 'MR BRIGHTSIDE', \"SHE'S ALL I WANNA BE\", 'THROUGH THE ECHOES', 'STFU', 'DANDELIONS', 'LEFT AND RIGHT', 'SNAP', 'STARLIGHT', 'BAD HABIT', 'BRAZIL', 'BAD LIFE', 'LOOSE CHANGE', 'BETTY (GET MONEY)', 'HOUSE ON FIRE', 'ONE KISS', 'WORDS', 'GETTING STARTED', 'ANYONE FOR YOU', 'CALL ME EVERY DAY', 'WET DREAM', 'SHOTGUN', 'JUNGLE', 'STAY', 'SAVE YOUR TEARS', 'BMW', 'DOWN UNDER', 'HEAVEN TAKES YOU HOME', 'LEVITATING', 'BLINDING LIGHTS', \"MAYBE YOU'RE THE PROBLEM\", 'GOOD 4 U', 'I WILL SURVIVE', '1989', 'FINESSE', 'EVERYBODY WANTS TO RULE THE WORLD', 'ALL MINE', 'HATE IT OR LOVE IT', 'HOT S**T', 'SOMEONE YOU LOVED', 'RIPTIDE']\n",
      "['LF SYSTEM', 'HARRY STYLES', 'GEORGE EZRA', 'BEYONCE', 'KATE BUSH', 'LIZZO', 'BURNA BOY', 'DAVID GUETTA/HILL/HENDERSON', 'TION WAYNE & LA ROUX', 'NATHAN DAWE FT ELLA HENDERSON', 'DRAKE', 'JAX JONES FT MNEK', 'HARRY STYLES', 'ONEREPUBLIC', 'SAM FENDER', 'JOJI', 'SIGALA & TALIA MAR', 'FUTURE FT DRAKE & TEMS', 'HARRY STYLES', 'CAT BURNS', 'BRU-C', 'METALLICA', 'DRAKE FT 21 SAVAGE', 'CALVIN HARRIS/DUA LIPA/YOUNG', 'DOJA CAT', 'LATTO/MARIAH CAREY/DJ KHALED', 'LADY GAGA', 'POST MALONE FT DOJA CAT', 'TIESTO & CHARLI XCX', 'BURNA BOY FT ED SHEERAN', 'D-BLOCK EUROPE/GHOST KILLER', 'DIPLO & MIGUEL', 'GLASS ANIMALS', 'TOM GRENNAN', 'ED SHEERAN', 'FIREBOY DML & ED SHEERAN', 'ED SHEERAN', 'BENSON BOONE', 'ED SHEERAN', 'LOST FREQUENCIES/CALUM SCOTT', 'BILLIE EILISH', 'LAUREN SPENCER-SMITH', 'NICKY YOURE & DAZY', 'CHASE & STATUS', 'TOM SANTA', 'BELTERS ONLY FT JAZZY', 'BURNA BOY FT J HUS', 'CAMILA CABELLO FT ED SHEERAN', 'DERMOT KENNEDY', 'BENZZ', 'JACK HARLOW', 'DRAKE', 'ELTON JOHN & DUA LIPA', 'JAMES HYPE/MIGGY DELA ROSA', 'LUUDE & MATTAFIX', 'SAM RYDER', '1975', 'AITCH/ASHANTI', 'POST MALONE FT RODDY RICCH', 'BRING ME THE HORIZON', 'KILLERS', 'TATE MCRAE', 'PAOLO NUTINI', 'DIGGA D', 'RUTH B', 'CHARLIE PUTH FT JUNG KOOK', 'ROSA LINN', 'DAVE', 'STEVE LACY', 'DECLAN MCKENNA', 'SIGRID & BRING ME THE HORIZON', 'BRENT FAIYAZ', 'YUNG GRAVY', 'MIMI WEBB', 'CALVIN HARRIS & DUA LIPA', 'ALESSO/ZARA LARSSON', 'SAM FENDER', 'GEORGE EZRA', 'CHRIS BROWN FT WIZKID', 'WET LEG', 'GEORGE EZRA', 'FRED AGAIN', 'KID LAROI & JUSTIN BIEBER', 'WEEKND', 'BAD BOY CHILLER CREW', 'LUUDE FT COLIN HAY', 'SWEDISH HOUSE MAFIA', 'DUA LIPA', 'WEEKND', 'AVA MAX', 'OLIVIA RODRIGO', 'BELTERS ONLY', 'AITCH', 'PHEELZ & BNXN', 'TEARS FOR FEARS', 'BRENT FAIYAZ', 'GAME FT 50 CENT', 'CARDI B/KANYE WEST/LIL DURK', 'LEWIS CAPALDI', 'VANCE JOY']\n"
     ]
    }
   ],
   "source": [
    "title2=[]\n",
    "artist2=[]\n",
    "\n",
    "\n",
    "title_list2=soup1.select(\"div.title a\")\n",
    "artist_list2=soup1.select(\"div.artist a\")\n",
    "\n",
    "num_iter2 = len(soup1.select(\"div.artist a\"))\n",
    "\n",
    "for i in range(num_iter2):\n",
    "    title2.append(title_list2[i].get_text())\n",
    "    artist2.append(artist_list2[i].get_text())\n",
    "\n",
    "print (title2)\n",
    "print (artist2)"
   ]
  },
  {
   "cell_type": "code",
   "execution_count": 21,
   "id": "d9eca7d3",
   "metadata": {},
   "outputs": [
    {
     "data": {
      "text/html": [
       "<div>\n",
       "<style scoped>\n",
       "    .dataframe tbody tr th:only-of-type {\n",
       "        vertical-align: middle;\n",
       "    }\n",
       "\n",
       "    .dataframe tbody tr th {\n",
       "        vertical-align: top;\n",
       "    }\n",
       "\n",
       "    .dataframe thead th {\n",
       "        text-align: right;\n",
       "    }\n",
       "</style>\n",
       "<table border=\"1\" class=\"dataframe\">\n",
       "  <thead>\n",
       "    <tr style=\"text-align: right;\">\n",
       "      <th></th>\n",
       "      <th>artist</th>\n",
       "      <th>title</th>\n",
       "    </tr>\n",
       "  </thead>\n",
       "  <tbody>\n",
       "    <tr>\n",
       "      <th>0</th>\n",
       "      <td>LF SYSTEM</td>\n",
       "      <td>AFRAID TO FEEL</td>\n",
       "    </tr>\n",
       "    <tr>\n",
       "      <th>1</th>\n",
       "      <td>HARRY STYLES</td>\n",
       "      <td>AS IT WAS</td>\n",
       "    </tr>\n",
       "    <tr>\n",
       "      <th>2</th>\n",
       "      <td>GEORGE EZRA</td>\n",
       "      <td>GREEN GREEN GRASS</td>\n",
       "    </tr>\n",
       "    <tr>\n",
       "      <th>3</th>\n",
       "      <td>BEYONCE</td>\n",
       "      <td>BREAK MY SOUL</td>\n",
       "    </tr>\n",
       "    <tr>\n",
       "      <th>4</th>\n",
       "      <td>KATE BUSH</td>\n",
       "      <td>RUNNING UP THAT HILL</td>\n",
       "    </tr>\n",
       "    <tr>\n",
       "      <th>...</th>\n",
       "      <td>...</td>\n",
       "      <td>...</td>\n",
       "    </tr>\n",
       "    <tr>\n",
       "      <th>95</th>\n",
       "      <td>BRENT FAIYAZ</td>\n",
       "      <td>ALL MINE</td>\n",
       "    </tr>\n",
       "    <tr>\n",
       "      <th>96</th>\n",
       "      <td>GAME FT 50 CENT</td>\n",
       "      <td>HATE IT OR LOVE IT</td>\n",
       "    </tr>\n",
       "    <tr>\n",
       "      <th>97</th>\n",
       "      <td>CARDI B/KANYE WEST/LIL DURK</td>\n",
       "      <td>HOT S**T</td>\n",
       "    </tr>\n",
       "    <tr>\n",
       "      <th>98</th>\n",
       "      <td>LEWIS CAPALDI</td>\n",
       "      <td>SOMEONE YOU LOVED</td>\n",
       "    </tr>\n",
       "    <tr>\n",
       "      <th>99</th>\n",
       "      <td>VANCE JOY</td>\n",
       "      <td>RIPTIDE</td>\n",
       "    </tr>\n",
       "  </tbody>\n",
       "</table>\n",
       "<p>100 rows × 2 columns</p>\n",
       "</div>"
      ],
      "text/plain": [
       "                         artist                 title\n",
       "0                     LF SYSTEM        AFRAID TO FEEL\n",
       "1                  HARRY STYLES             AS IT WAS\n",
       "2                   GEORGE EZRA     GREEN GREEN GRASS\n",
       "3                       BEYONCE         BREAK MY SOUL\n",
       "4                     KATE BUSH  RUNNING UP THAT HILL\n",
       "..                          ...                   ...\n",
       "95                 BRENT FAIYAZ              ALL MINE\n",
       "96              GAME FT 50 CENT    HATE IT OR LOVE IT\n",
       "97  CARDI B/KANYE WEST/LIL DURK              HOT S**T\n",
       "98                LEWIS CAPALDI     SOMEONE YOU LOVED\n",
       "99                    VANCE JOY               RIPTIDE\n",
       "\n",
       "[100 rows x 2 columns]"
      ]
     },
     "execution_count": 21,
     "metadata": {},
     "output_type": "execute_result"
    }
   ],
   "source": [
    "data1 = pd.DataFrame({\"artist\":artist2, \n",
    "                     \"title\":title2})\n",
    "data1"
   ]
  },
  {
   "cell_type": "markdown",
   "id": "baeb3e03",
   "metadata": {},
   "source": [
    "## PRACTICE QS"
   ]
  },
  {
   "cell_type": "code",
   "execution_count": 22,
   "id": "06607f07",
   "metadata": {},
   "outputs": [],
   "source": [
    "#Create a Python list with the top ten FBI's Most Wanted names: url = 'https://www.fbi.gov/wanted/topten'"
   ]
  },
  {
   "cell_type": "code",
   "execution_count": 23,
   "id": "298a1bb3",
   "metadata": {},
   "outputs": [],
   "source": [
    "url2 = \"https://www.fbi.gov/wanted/topten\""
   ]
  },
  {
   "cell_type": "code",
   "execution_count": 24,
   "id": "0c193371",
   "metadata": {},
   "outputs": [
    {
     "data": {
      "text/plain": [
       "200"
      ]
     },
     "execution_count": 24,
     "metadata": {},
     "output_type": "execute_result"
    }
   ],
   "source": [
    "response2 = requests.get(url2)\n",
    "response2.status_code"
   ]
  },
  {
   "cell_type": "code",
   "execution_count": 25,
   "id": "04f0a9e9",
   "metadata": {},
   "outputs": [
    {
     "data": {
      "text/plain": [
       "71502"
      ]
     },
     "execution_count": 25,
     "metadata": {},
     "output_type": "execute_result"
    }
   ],
   "source": [
    "response2.content #whole html content\n",
    "len(response2.content)"
   ]
  },
  {
   "cell_type": "code",
   "execution_count": null,
   "id": "0933f346",
   "metadata": {},
   "outputs": [],
   "source": [
    "soup2 = BeautifulSoup(response2.content, \"html.parser\")\n",
    "print(soup2.prettify())"
   ]
  },
  {
   "cell_type": "code",
   "execution_count": 27,
   "id": "3892e2a6",
   "metadata": {},
   "outputs": [
    {
     "name": "stdout",
     "output_type": "stream",
     "text": [
      "JASON DEREK BROWN\n"
     ]
    }
   ],
   "source": [
    "print(soup2.select(\"h3.title a\")[0].get_text())"
   ]
  },
  {
   "cell_type": "code",
   "execution_count": 28,
   "id": "37bd15f4",
   "metadata": {},
   "outputs": [
    {
     "name": "stdout",
     "output_type": "stream",
     "text": [
      "['JASON DEREK BROWN', 'RUJA IGNATOVA', 'ARNOLDO JIMENEZ', 'ALEXIS FLORES', 'JOSE RODOLFO VILLARREAL-HERNANDEZ', 'YULAN ADONAY ARCHAGA CARIAS', 'RAFAEL CARO-QUINTERO', 'EUGENE PALMER', 'BHADRESHKUMAR CHETANBHAI PATEL', 'ALEJANDRO ROSALES CASTILLO']\n"
     ]
    }
   ],
   "source": [
    "fbi=[]\n",
    "\n",
    "fbi_list=soup2.select(\"h3.title a\")\n",
    "\n",
    "num_iter3 = len(soup2.select(\"h3.title a\"))\n",
    "\n",
    "for i in range(num_iter3):\n",
    "    fbi.append(fbi_list[i].get_text())\n",
    "\n",
    "print (fbi)"
   ]
  },
  {
   "cell_type": "code",
   "execution_count": 29,
   "id": "ecc9b708",
   "metadata": {},
   "outputs": [],
   "source": [
    "#Display the top 10 languages by number of native speakers stored in a pandas dataframe: url = 'https://en.wikipedia.org/wiki/List_of_languages_by_number_of_native_speakers'"
   ]
  },
  {
   "cell_type": "code",
   "execution_count": 30,
   "id": "7b9ee670",
   "metadata": {},
   "outputs": [],
   "source": [
    "url3 = \"https://en.wikipedia.org/wiki/List_of_languages_by_number_of_native_speakers\""
   ]
  },
  {
   "cell_type": "code",
   "execution_count": 31,
   "id": "f5f70c5d",
   "metadata": {},
   "outputs": [
    {
     "data": {
      "text/plain": [
       "200"
      ]
     },
     "execution_count": 31,
     "metadata": {},
     "output_type": "execute_result"
    }
   ],
   "source": [
    "response3 = requests.get(url3)\n",
    "response3.status_code"
   ]
  },
  {
   "cell_type": "code",
   "execution_count": 32,
   "id": "d38e5eec",
   "metadata": {},
   "outputs": [
    {
     "data": {
      "text/plain": [
       "166010"
      ]
     },
     "execution_count": 32,
     "metadata": {},
     "output_type": "execute_result"
    }
   ],
   "source": [
    "response3.content #whole html content\n",
    "len(response3.content)"
   ]
  },
  {
   "cell_type": "code",
   "execution_count": null,
   "id": "a4812f62",
   "metadata": {},
   "outputs": [],
   "source": [
    "soup3 = BeautifulSoup(response3.content, \"html.parser\")\n",
    "print(soup3.prettify())"
   ]
  },
  {
   "cell_type": "code",
   "execution_count": 34,
   "id": "b0f062da",
   "metadata": {},
   "outputs": [
    {
     "name": "stdout",
     "output_type": "stream",
     "text": [
      "Mandarin Chinese\n"
     ]
    }
   ],
   "source": [
    "print(soup3.select(\"td a\")[0].get_text())"
   ]
  },
  {
   "cell_type": "code",
   "execution_count": 35,
   "id": "5b481797",
   "metadata": {},
   "outputs": [
    {
     "data": {
      "text/plain": [
       "['Mandarin Chinese',\n",
       " 'Sino-Tibetan',\n",
       " 'Sinitic',\n",
       " 'Spanish',\n",
       " 'Indo-European',\n",
       " 'Romance',\n",
       " 'English',\n",
       " 'Indo-European',\n",
       " 'Germanic',\n",
       " 'Hindi']"
      ]
     },
     "execution_count": 35,
     "metadata": {},
     "output_type": "execute_result"
    }
   ],
   "source": [
    "lang=[]\n",
    "\n",
    "lang_list=soup3.select(\"td a\")\n",
    "\n",
    "num_iter4 = len(soup3.select(\"td a\"))\n",
    "\n",
    "for i in range(num_iter4):\n",
    "    lang.append(lang_list[i].get_text())\n",
    "\n",
    "#print(lang[:10])\n",
    "\n",
    "top10 = lang[:10]\n",
    "top10\n"
   ]
  },
  {
   "cell_type": "code",
   "execution_count": 36,
   "id": "bf54dd3d",
   "metadata": {},
   "outputs": [
    {
     "data": {
      "text/html": [
       "<div>\n",
       "<style scoped>\n",
       "    .dataframe tbody tr th:only-of-type {\n",
       "        vertical-align: middle;\n",
       "    }\n",
       "\n",
       "    .dataframe tbody tr th {\n",
       "        vertical-align: top;\n",
       "    }\n",
       "\n",
       "    .dataframe thead th {\n",
       "        text-align: right;\n",
       "    }\n",
       "</style>\n",
       "<table border=\"1\" class=\"dataframe\">\n",
       "  <thead>\n",
       "    <tr style=\"text-align: right;\">\n",
       "      <th></th>\n",
       "      <th>top_10_languages</th>\n",
       "    </tr>\n",
       "  </thead>\n",
       "  <tbody>\n",
       "    <tr>\n",
       "      <th>0</th>\n",
       "      <td>Mandarin Chinese</td>\n",
       "    </tr>\n",
       "    <tr>\n",
       "      <th>1</th>\n",
       "      <td>Sino-Tibetan</td>\n",
       "    </tr>\n",
       "    <tr>\n",
       "      <th>2</th>\n",
       "      <td>Sinitic</td>\n",
       "    </tr>\n",
       "    <tr>\n",
       "      <th>3</th>\n",
       "      <td>Spanish</td>\n",
       "    </tr>\n",
       "    <tr>\n",
       "      <th>4</th>\n",
       "      <td>Indo-European</td>\n",
       "    </tr>\n",
       "    <tr>\n",
       "      <th>5</th>\n",
       "      <td>Romance</td>\n",
       "    </tr>\n",
       "    <tr>\n",
       "      <th>6</th>\n",
       "      <td>English</td>\n",
       "    </tr>\n",
       "    <tr>\n",
       "      <th>7</th>\n",
       "      <td>Indo-European</td>\n",
       "    </tr>\n",
       "    <tr>\n",
       "      <th>8</th>\n",
       "      <td>Germanic</td>\n",
       "    </tr>\n",
       "    <tr>\n",
       "      <th>9</th>\n",
       "      <td>Hindi</td>\n",
       "    </tr>\n",
       "  </tbody>\n",
       "</table>\n",
       "</div>"
      ],
      "text/plain": [
       "   top_10_languages\n",
       "0  Mandarin Chinese\n",
       "1      Sino-Tibetan\n",
       "2           Sinitic\n",
       "3           Spanish\n",
       "4     Indo-European\n",
       "5           Romance\n",
       "6           English\n",
       "7     Indo-European\n",
       "8          Germanic\n",
       "9             Hindi"
      ]
     },
     "execution_count": 36,
     "metadata": {},
     "output_type": "execute_result"
    }
   ],
   "source": [
    "top10 = pd.DataFrame({\"top_10_languages\":lang[:10]})\n",
    "top10"
   ]
  }
 ],
 "metadata": {
  "kernelspec": {
   "display_name": "Python 3 (ipykernel)",
   "language": "python",
   "name": "python3"
  },
  "language_info": {
   "codemirror_mode": {
    "name": "ipython",
    "version": 3
   },
   "file_extension": ".py",
   "mimetype": "text/x-python",
   "name": "python",
   "nbconvert_exporter": "python",
   "pygments_lexer": "ipython3",
   "version": "3.8.13"
  }
 },
 "nbformat": 4,
 "nbformat_minor": 5
}
